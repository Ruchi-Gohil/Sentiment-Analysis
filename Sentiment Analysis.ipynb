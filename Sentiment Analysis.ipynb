{
  "nbformat": 4,
  "nbformat_minor": 0,
  "metadata": {
    "colab": {
      "name": "06_RuchiGohil.ipynb",
      "provenance": [],
      "collapsed_sections": []
    },
    "kernelspec": {
      "name": "python3",
      "display_name": "Python 3"
    }
  },
  "cells": [
    {
      "cell_type": "code",
      "metadata": {
        "id": "oM3MZUt7J1px"
      },
      "source": [
        "import os\n",
        "import tweepy as tw\n",
        "import pandas as pd"
      ],
      "execution_count": null,
      "outputs": []
    },
    {
      "cell_type": "code",
      "metadata": {
        "id": "P_hG7JcVJ_PP"
      },
      "source": [
        "consumer_key= ''\n",
        "consumer_secret= ''\n",
        "access_token= ''        \n",
        "access_token_secret= ''"
      ],
      "execution_count": null,
      "outputs": []
    },
    {
      "cell_type": "code",
      "metadata": {
        "id": "7OpyGiq1KuFo"
      },
      "source": [
        "auth = tw.OAuthHandler(consumer_key, consumer_secret)\n",
        "auth.set_access_token(access_token, access_token_secret)\n",
        "api = tw.API(auth, wait_on_rate_limit=True)"
      ],
      "execution_count": null,
      "outputs": []
    },
    {
      "cell_type": "code",
      "metadata": {
        "id": "I3fVs2gPK3vZ"
      },
      "source": [
        "search_words = \"#UNGA\"\n",
        "date_since = \"2020-05-12\""
      ],
      "execution_count": null,
      "outputs": []
    },
    {
      "cell_type": "code",
      "metadata": {
        "id": "8Ntv1hsBLEoQ"
      },
      "source": [
        "tweets = tw.Cursor(api.search,\n",
        "              q=search_words,\n",
        "              lang=\"en\",\n",
        "              since=date_since).items(10)\n",
        "tweets"
      ],
      "execution_count": null,
      "outputs": []
    },
    {
      "cell_type": "code",
      "metadata": {
        "id": "LRTsKiYFLH9F"
      },
      "source": [
        "for tweet in tweets:\n",
        "    print(tweet.text)"
      ],
      "execution_count": null,
      "outputs": []
    },
    {
      "cell_type": "code",
      "metadata": {
        "id": "lAVsGMldLa9_"
      },
      "source": [
        "[tweet.text for tweet in tweets]"
      ],
      "execution_count": null,
      "outputs": []
    },
    {
      "cell_type": "code",
      "metadata": {
        "id": "JrLFG6g8Mx4S"
      },
      "source": [
        "new_search = search_words + \" -filter:retweets\"\n",
        "new_search"
      ],
      "execution_count": null,
      "outputs": []
    },
    {
      "cell_type": "code",
      "metadata": {
        "id": "SVuN0Je0M9tj"
      },
      "source": [
        "tweets = tw.Cursor(api.search,\n",
        "                       q=new_search,\n",
        "                       lang=\"en\",\n",
        "                       since=date_since).items(5)\n",
        "\n",
        "[tweet.text for tweet in tweets]\n"
      ],
      "execution_count": null,
      "outputs": []
    },
    {
      "cell_type": "code",
      "metadata": {
        "id": "9fo-eQ7_NAjG"
      },
      "source": [
        "tweets = tw.Cursor(api.search, \n",
        "                           q=new_search,\n",
        "                           lang=\"en\",\n",
        "                           since=date_since).items(5)\n",
        "\n",
        "users_locs = [[tweet.user.screen_name, tweet.user.location] for tweet in tweets]\n",
        "users_locs\n"
      ],
      "execution_count": null,
      "outputs": []
    },
    {
      "cell_type": "code",
      "metadata": {
        "id": "UvxT1wDENLvV"
      },
      "source": [
        "tweet_text = pd.DataFrame(data=users_locs, \n",
        "                    columns=['user', \"location\"])\n",
        "tweet_text"
      ],
      "execution_count": null,
      "outputs": []
    },
    {
      "cell_type": "code",
      "metadata": {
        "id": "y6eLVhVZNnSp"
      },
      "source": [
        "new_search = \"womens+bill+of+rights -filter:retweets\"\n",
        "\n",
        "tweets = tw.Cursor(api.search,\n",
        "                   q=new_search,\n",
        "                   lang=\"en\",\n",
        "                   since='2020-01-01').items(100)\n",
        "\n",
        "all_tweets = [tweet.text for tweet in tweets]\n",
        "all_tweets[:5]\n",
        "\n"
      ],
      "execution_count": null,
      "outputs": []
    },
    {
      "cell_type": "code",
      "metadata": {
        "id": "EL1-ff-COGAd"
      },
      "source": [
        "import os\n",
        "import pandas as pd\n",
        "import matplotlib.pyplot as plt\n",
        "import seaborn as sns\n",
        "import itertools\n",
        "import collections\n",
        "import pandas.testing as tm\n",
        "\n",
        "import tweepy as tw\n",
        "import nltk\n",
        "from nltk.corpus import stopwords\n",
        "import re\n",
        "import networkx\n",
        "\n",
        "import warnings\n",
        "warnings.filterwarnings(\"ignore\")\n",
        "\n",
        "sns.set(font_scale=1.5)\n",
        "sns.set_style(\"whitegrid\")\n"
      ],
      "execution_count": null,
      "outputs": []
    },
    {
      "cell_type": "code",
      "metadata": {
        "id": "N8f7s_W_PYIK"
      },
      "source": [
        "search_term = \"#CEDAW -filter:retweets\"\n",
        "\n",
        "tweets = tw.Cursor(api.search,\n",
        "                   q=search_term,\n",
        "                   lang=\"en\",\n",
        "                   since='2020-09-12').items(100)\n",
        "\n",
        "all_tweets = [tweet.text for tweet in tweets]\n",
        "\n",
        "all_tweets[:5]\n"
      ],
      "execution_count": null,
      "outputs": []
    },
    {
      "cell_type": "code",
      "metadata": {
        "id": "Pqw0asf7Pgpd"
      },
      "source": [
        "def remove_url(txt):\n",
        "    return \" \".join(re.sub(\"([^0-9A-Za-z \\t])|(\\w+:\\/\\/\\S+)\", \"\", txt).split())\n"
      ],
      "execution_count": null,
      "outputs": []
    },
    {
      "cell_type": "code",
      "metadata": {
        "id": "RFi7qwqxQTqk"
      },
      "source": [
        "all_tweets_no_urls = [remove_url(tweet) for tweet in all_tweets]\n",
        "all_tweets_no_urls[:5]\n"
      ],
      "execution_count": null,
      "outputs": []
    },
    {
      "cell_type": "code",
      "metadata": {
        "id": "YvUuJsZVQf9W"
      },
      "source": [
        "words_in_tweet = [tweet.lower().split() for tweet in all_tweets_no_urls]\n",
        "words_in_tweet[:2]"
      ],
      "execution_count": null,
      "outputs": []
    },
    {
      "cell_type": "code",
      "metadata": {
        "id": "7_U61m9gQbNQ"
      },
      "source": [
        "all_words_no_urls = list(itertools.chain(*words_in_tweet))\n",
        "counts_no_urls = collections.Counter(all_words_no_urls)\n",
        "counts_no_urls.most_common(15)"
      ],
      "execution_count": null,
      "outputs": []
    },
    {
      "cell_type": "code",
      "metadata": {
        "id": "pbchOCWGRBgX"
      },
      "source": [
        "clean_tweets_no_urls = pd.DataFrame(counts_no_urls.most_common(15),\n",
        "                             columns=['words', 'count'])\n",
        "\n",
        "clean_tweets_no_urls.head()\n"
      ],
      "execution_count": null,
      "outputs": []
    },
    {
      "cell_type": "code",
      "metadata": {
        "id": "yxXB5SYMRRbw"
      },
      "source": [
        "fig, ax = plt.subplots(figsize=(8, 8))\n",
        "\n",
        "# Plot horizontal bar graph\n",
        "clean_tweets_no_urls.sort_values(by='count').plot.barh(x='words',\n",
        "                      y='count',\n",
        "                      ax=ax,\n",
        "                      color=\"green\")\n",
        "\n",
        "ax.set_title(\"Common Words Found in Tweets (Including All Words)\")\n",
        "\n",
        "plt.show()\n"
      ],
      "execution_count": null,
      "outputs": []
    },
    {
      "cell_type": "code",
      "metadata": {
        "id": "9LLue16YRy3c"
      },
      "source": [
        "nltk.download('stopwords')\n",
        "stop_words = set(stopwords.words('english'))\n",
        "tweets_nsw = [[word for word in tweet_words if not word in stop_words]\n",
        "              for tweet_words in words_in_tweet]\n",
        "\n",
        "tweets_nsw[0]\n",
        "\n",
        "all_words_nsw = list(itertools.chain(*tweets_nsw))\n",
        "\n",
        "counts_nsw = collections.Counter(all_words_nsw)\n",
        "\n",
        "counts_nsw.most_common(15)\n",
        "\n",
        "clean_tweets_nsw = pd.DataFrame(counts_nsw.most_common(15),\n",
        "                             columns=['words', 'count'])\n",
        "\n",
        "fig, ax = plt.subplots(figsize=(8, 8))\n",
        "\n",
        "# Plot horizontal bar graph\n",
        "clean_tweets_nsw.sort_values(by='count').plot.barh(x='words',\n",
        "                      y='count',\n",
        "                      ax=ax,\n",
        "                      color=\"red\")\n",
        "\n",
        "ax.set_title(\"Common Words Found in Tweets (Without Stop Words)\")\n",
        "\n",
        "plt.show()\n",
        "\n"
      ],
      "execution_count": null,
      "outputs": []
    },
    {
      "cell_type": "code",
      "metadata": {
        "id": "nRsbhlNbSMTA"
      },
      "source": [
        "from textblob import TextBlob\n",
        "\n",
        "search_term = \"#CEDAW -filter:retweets\"\n",
        "\n",
        "tweets = tw.Cursor(api.search,\n",
        "                   q=search_term,\n",
        "                   lang=\"en\",\n",
        "                   since='2018-05-23').items(1500)\n",
        "\n",
        "all_tweets_no_urls = [TextBlob(remove_url(tweet.text)) for tweet in tweets]\n",
        "\n",
        "all_tweets_no_urls[:5]\n"
      ],
      "execution_count": null,
      "outputs": []
    },
    {
      "cell_type": "code",
      "metadata": {
        "id": "9aFWB3v6UZFV"
      },
      "source": [
        "wild_sent_values = [[tweet.sentiment.polarity, str(tweet)] for tweet in all_tweets_no_urls]\n",
        "wild_sent_df = pd.DataFrame(wild_sent_values, columns=[\"polarity\", \"tweet\"])\n",
        "wild_sent_df = wild_sent_df[wild_sent_df.polarity != 0]\n",
        "wild_sent_df.head()"
      ],
      "execution_count": null,
      "outputs": []
    },
    {
      "cell_type": "code",
      "metadata": {
        "id": "nfc1ZR9OUmSx"
      },
      "source": [
        "fig, ax = plt.subplots(figsize=(8, 6))\n",
        "\n",
        "wild_sent_df.hist(bins=[-1, -0.75, -0.5, -0.25, 0, 0.25, 0.5, 0.75, 1],\n",
        "        ax=ax, color=\"Pink\")\n",
        "\n",
        "plt.title(\"Sentiments from Tweets on UNGA's implementation of CEDAW\")\n",
        "plt.show()\n"
      ],
      "execution_count": null,
      "outputs": []
    }
  ]
}